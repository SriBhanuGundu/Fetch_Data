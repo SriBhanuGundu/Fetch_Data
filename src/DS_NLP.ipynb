{
  "nbformat": 4,
  "nbformat_minor": 0,
  "metadata": {
    "colab": {
      "provenance": []
    },
    "kernelspec": {
      "name": "python3",
      "display_name": "Python 3"
    },
    "language_info": {
      "name": "python"
    }
  },
  "cells": [
    {
      "cell_type": "markdown",
      "source": [
        "### To run this code, initially files need to be linked to the location of notebook."
      ],
      "metadata": {
        "id": "f3C6bdA7oA8A"
      }
    },
    {
      "cell_type": "code",
      "execution_count": null,
      "metadata": {
        "id": "AeEoUOgkclWN"
      },
      "outputs": [],
      "source": [
        "with open('dummy_order.html', 'r') as f:\n",
        "    html_content = f.read()\n",
        "    #print(html_content)"
      ]
    },
    {
      "cell_type": "code",
      "source": [
        "with open('dummy_shipping.html', 'r') as f:\n",
        "    shipping = f.read()\n",
        "    #print(shipping)"
      ],
      "metadata": {
        "id": "x-idgA0gexC2"
      },
      "execution_count": null,
      "outputs": []
    },
    {
      "cell_type": "markdown",
      "source": [
        "### Clean the data from html files."
      ],
      "metadata": {
        "id": "4tnnngnmobbj"
      }
    },
    {
      "cell_type": "code",
      "source": [
        "import re\n",
        "import nltk\n",
        "from nltk.corpus import stopwords\n",
        "nltk.download('stopwords')\n",
        "nltk.download('punkt')\n",
        "\n",
        "def clean_email_text(email_text):\n",
        "    # Remove email headers, footers, and signatures using regular expressions\n",
        "    pattern = r'From:.*|To:.*|Subject:.*|\\n.*\\nOn.*\\n.*\\n.*\\nSent.*\\n|Dear.*|Sincerely.*'\n",
        "    email_text = re.sub(pattern, '', email_text, flags=re.IGNORECASE)\n",
        "    email_text = re.sub('<[^<]+?>', '', email_text)\n",
        "    email_text = email_text.replace('nbsp', ' ')\n",
        "\n",
        "    # Convert the text to lowercase\n",
        "    email_text = email_text.lower()\n",
        "\n",
        "    # Remove punctuation marks\n",
        "    email_text = re.sub(r'[^\\w\\s]', '', email_text)\n",
        "\n",
        "    # Remove stop words\n",
        "    stop_words = set(stopwords.words('english'))\n",
        "    \n",
        "    words = nltk.word_tokenize(email_text)\n",
        "    words = [word for word in words if word not in stop_words]\n",
        "    email_text = ' '.join(words)\n",
        "\n",
        "    return email_text\n",
        "\n",
        "order = clean_email_text(html_content)\n",
        "shipping = clean_email_text(shipping)\n",
        "order\n"
      ],
      "metadata": {
        "colab": {
          "base_uri": "https://localhost:8080/",
          "height": 174
        },
        "id": "yUkFy-hEgcJs",
        "outputId": "e4556695-1d06-4eb5-a6a7-af751daa8276"
      },
      "execution_count": null,
      "outputs": [
        {
          "output_type": "stream",
          "name": "stderr",
          "text": [
            "[nltk_data] Downloading package stopwords to /root/nltk_data...\n",
            "[nltk_data]   Unzipping corpora/stopwords.zip.\n",
            "[nltk_data] Downloading package punkt to /root/nltk_data...\n",
            "[nltk_data]   Unzipping tokenizers/punkt.zip.\n"
          ]
        },
        {
          "output_type": "execute_result",
          "data": {
            "text/plain": [
              "'barnes amp noble order confirmation 241300967 find store view browser save 10 every day become member save 10 every daybecome member books teens kids ebooks toys games order summary order 241300967 ship 500 elkview drive miami fl 33169 us bill james smith shipping method standard item qty price est delivery fine print lauren asher paperback 1 1499 10212022 twisted love special edition twisted series 1 ana huang paperback 1 1399 10212022 ice planet barbarians ruby dixon paperback 1 1440 10222022 sub total 4338 shipping amp processing 000 tax 345 order total 4683 visa ending xxxx 4683 order contains preorder items available publication dates digital preorders appear nook nook reading app publication dates nook magazine newspaper subscriptions qualify 14day trial wont billed trial ends order delivery expectations best process ship orders quickly possible estimated delivery date cost shipping order depends selected delivery speed information please visit delivery expectations items order may ship separately aim ship items together ordered multiple items may ship separate warehouses may arrive separate packages possibly separate dates want cancel order interest processing order quickly possible brief window time able modify cancel order placed fulfillment system continue process order attempt modify may result changes applied circumstances worth checking us order hasnt made packing department yet please visit cancel order details refund return policies receiving items course return back us refunds returns processed eligible items returned using appropriate method return shipped brought store within 30 days 14 days nook devices 60 days gift receipt happy assist return information please visit refund return policies cant find answer youre looking visit bampn help center frequently asked questions thank shopping us see upcoming events gt free curbside pickup buy online pickup store available see gt find local bampn 2022 barnes amp noble rights reserved privacy policy bncom 33 east 17th street new york ny 10003'"
            ],
            "application/vnd.google.colaboratory.intrinsic+json": {
              "type": "string"
            }
          },
          "metadata": {},
          "execution_count": 5
        }
      ]
    },
    {
      "cell_type": "markdown",
      "source": [
        "### Order data"
      ],
      "metadata": {
        "id": "0fP1f4XmoniZ"
      }
    },
    {
      "cell_type": "code",
      "source": [
        "order"
      ],
      "metadata": {
        "colab": {
          "base_uri": "https://localhost:8080/",
          "height": 105
        },
        "id": "TitrF_9WgyUO",
        "outputId": "94ef7da6-aae2-427c-88c7-41915af4bb7d"
      },
      "execution_count": null,
      "outputs": [
        {
          "output_type": "execute_result",
          "data": {
            "text/plain": [
              "'barnes amp noble order confirmation 241300967 find store view browser save 10 every day become member save 10 every daybecome member books teens kids ebooks toys games order summary order 241300967 ship 500 elkview drive miami fl 33169 us bill james smith shipping method standard item qty price est delivery fine print lauren asher paperback 1 1499 10212022 twisted love special edition twisted series 1 ana huang paperback 1 1399 10212022 ice planet barbarians ruby dixon paperback 1 1440 10222022 sub total 4338 shipping amp processing 000 tax 345 order total 4683 visa ending xxxx 4683 order contains preorder items available publication dates digital preorders appear nook nook reading app publication dates nook magazine newspaper subscriptions qualify 14day trial wont billed trial ends order delivery expectations best process ship orders quickly possible estimated delivery date cost shipping order depends selected delivery speed information please visit delivery expectations items order may ship separately aim ship items together ordered multiple items may ship separate warehouses may arrive separate packages possibly separate dates want cancel order interest processing order quickly possible brief window time able modify cancel order placed fulfillment system continue process order attempt modify may result changes applied circumstances worth checking us order hasnt made packing department yet please visit cancel order details refund return policies receiving items course return back us refunds returns processed eligible items returned using appropriate method return shipped brought store within 30 days 14 days nook devices 60 days gift receipt happy assist return information please visit refund return policies cant find answer youre looking visit bampn help center frequently asked questions thank shopping us see upcoming events gt free curbside pickup buy online pickup store available see gt find local bampn 2022 barnes amp noble rights reserved privacy policy bncom 33 east 17th street new york ny 10003'"
            ],
            "application/vnd.google.colaboratory.intrinsic+json": {
              "type": "string"
            }
          },
          "metadata": {},
          "execution_count": 6
        }
      ]
    },
    {
      "cell_type": "markdown",
      "source": [
        "### Shipping data"
      ],
      "metadata": {
        "id": "j4UDrPbDoqo4"
      }
    },
    {
      "cell_type": "code",
      "source": [
        "shipping"
      ],
      "metadata": {
        "colab": {
          "base_uri": "https://localhost:8080/",
          "height": 88
        },
        "id": "61Pyv7_rhJ1g",
        "outputId": "5a9a0576-9c76-428e-eea7-f0d2232abffb"
      },
      "execution_count": null,
      "outputs": [
        {
          "output_type": "execute_result",
          "data": {
            "text/plain": [
              "'billing summary recent barnes amp noble order 262434598 view browser books ebooks audiobooks teens amp ya kids toys hi james summary listed items shippedbilled qty amount fine print 1 1499 order subtotal 1499 tax 100 order total 1599 prices shown reflect discounts applied applicable please note items order shipped yet bill items ship receive another email detailing charges payment cards chargedrefunded credit card ending xxxx 1599 order included items check status please note transactions bncom appear credit card statement barnesampnoble papersource thank shopping us look forward next visit barnes amp noble check order status learn easy returns questions visit bampn help center 2022 barnes amp noble rights reserved privacy policy bncom 33 east 17th street new york ny 10003'"
            ],
            "application/vnd.google.colaboratory.intrinsic+json": {
              "type": "string"
            }
          },
          "metadata": {},
          "execution_count": 7
        }
      ]
    },
    {
      "cell_type": "markdown",
      "source": [
        "### Tokenization"
      ],
      "metadata": {
        "id": "pfSL4OrZovss"
      }
    },
    {
      "cell_type": "code",
      "source": [
        "import nltk\n",
        "from sklearn.feature_extraction.text import TfidfVectorizer\n",
        "\n",
        "\n",
        "# Tokenize the email text into words\n",
        "#words = nltk.word_tokenize(order)\n",
        "words = nltk.word_tokenize(shipping)\n",
        "\n",
        "# Define a TF-IDF vectorizer and fit it to the words\n",
        "tfidf = TfidfVectorizer()\n",
        "tfidf.fit_transform(words)\n",
        "\n",
        "# Extract the top 5 most important words and phrases\n",
        "top_n = 5\n",
        "top_words = sorted(list(zip(tfidf.get_feature_names_out(), tfidf.idf_)), key=lambda x: x[1])[:top_n]\n",
        "top_phrases = []\n",
        "for i in range(len(words)-1):\n",
        "    phrase = f\"{words[i]} {words[i+1]}\"\n",
        "    if phrase in tfidf.get_feature_names_out():\n",
        "        top_phrases.append((phrase, tfidf.idf_[tfidf.get_feature_names_out().index(phrase)]))\n",
        "top_phrases = sorted(top_phrases, key=lambda x: x[1])[:top_n]\n",
        "\n",
        "# Print the top words and phrases\n",
        "print(\"Top words:\")\n",
        "for word in top_words:\n",
        "    print(word[0])\n",
        "print(\"Top phrases:\")\n",
        "for phrase in top_phrases:\n",
        "    print(phrase[0])\n"
      ],
      "metadata": {
        "colab": {
          "base_uri": "https://localhost:8080/"
        },
        "id": "QjFOcmnLiq6I",
        "outputId": "20cd7d2e-17b0-405f-ae9f-f67f3fcf9523"
      },
      "execution_count": null,
      "outputs": [
        {
          "output_type": "stream",
          "name": "stdout",
          "text": [
            "Top words:\n",
            "order\n",
            "amp\n",
            "items\n",
            "barnes\n",
            "noble\n",
            "Top phrases:\n"
          ]
        }
      ]
    },
    {
      "cell_type": "code",
      "source": [
        "order"
      ],
      "metadata": {
        "colab": {
          "base_uri": "https://localhost:8080/",
          "height": 105
        },
        "id": "LfZOircFtV-Z",
        "outputId": "32111ccc-c509-46c4-df03-b96c7fab27e4"
      },
      "execution_count": null,
      "outputs": [
        {
          "output_type": "execute_result",
          "data": {
            "text/plain": [
              "'barnes amp noble order confirmation 241300967 find store view browser save 10 every day become member save 10 every daybecome member books teens kids ebooks toys games order summary order 241300967 ship 500 elkview drive miami fl 33169 us bill james smith shipping method standard item qty price est delivery fine print lauren asher paperback 1 1499 10212022 twisted love special edition twisted series 1 ana huang paperback 1 1399 10212022 ice planet barbarians ruby dixon paperback 1 1440 10222022 sub total 4338 shipping amp processing 000 tax 345 order total 4683 visa ending xxxx 4683 order contains preorder items available publication dates digital preorders appear nook nook reading app publication dates nook magazine newspaper subscriptions qualify 14day trial wont billed trial ends order delivery expectations best process ship orders quickly possible estimated delivery date cost shipping order depends selected delivery speed information please visit delivery expectations items order may ship separately aim ship items together ordered multiple items may ship separate warehouses may arrive separate packages possibly separate dates want cancel order interest processing order quickly possible brief window time able modify cancel order placed fulfillment system continue process order attempt modify may result changes applied circumstances worth checking us order hasnt made packing department yet please visit cancel order details refund return policies receiving items course return back us refunds returns processed eligible items returned using appropriate method return shipped brought store within 30 days 14 days nook devices 60 days gift receipt happy assist return information please visit refund return policies cant find answer youre looking visit bampn help center frequently asked questions thank shopping us see upcoming events gt free curbside pickup buy online pickup store available see gt find local bampn 2022 barnes amp noble rights reserved privacy policy bncom 33 east 17th street new york ny 10003'"
            ],
            "application/vnd.google.colaboratory.intrinsic+json": {
              "type": "string"
            }
          },
          "metadata": {},
          "execution_count": 9
        }
      ]
    },
    {
      "cell_type": "code",
      "source": [
        "import nltk\n",
        "from nltk.sentiment.vader import SentimentIntensityAnalyzer\n",
        "nltk.download('vader_lexicon')\n",
        "\n",
        "# Initialize the VADER sentiment analyzer\n",
        "analyzer = SentimentIntensityAnalyzer()\n",
        "\n",
        "# Analyze the sentiment of the email text\n",
        "sentiment = analyzer.polarity_scores(order)\n",
        "\n",
        "# Print the sentiment scores\n",
        "print(\"Sentiment scores:\")\n",
        "for key, value in sentiment.items():\n",
        "    print(f\"{key}: {value}\")\n"
      ],
      "metadata": {
        "colab": {
          "base_uri": "https://localhost:8080/"
        },
        "id": "jl1IZCGKiq8t",
        "outputId": "07388474-511c-474f-e81c-33889f1d3e83"
      },
      "execution_count": null,
      "outputs": [
        {
          "output_type": "stream",
          "name": "stdout",
          "text": [
            "Sentiment scores:\n",
            "neg: 0.018\n",
            "neu: 0.812\n",
            "pos: 0.17\n",
            "compound: 0.9935\n"
          ]
        },
        {
          "output_type": "stream",
          "name": "stderr",
          "text": [
            "[nltk_data] Downloading package vader_lexicon to /root/nltk_data...\n"
          ]
        }
      ]
    },
    {
      "cell_type": "code",
      "source": [
        "sentiment = analyzer.polarity_scores(shipping)\n",
        "\n",
        "# Print the sentiment scores\n",
        "print(\"Sentiment scores:\")\n",
        "for key, value in sentiment.items():\n",
        "    print(f\"{key}: {value}\")"
      ],
      "metadata": {
        "colab": {
          "base_uri": "https://localhost:8080/"
        },
        "id": "VFocrvW1iq-_",
        "outputId": "e757188d-584f-4611-ca01-3294f2b919d7"
      },
      "execution_count": null,
      "outputs": [
        {
          "output_type": "stream",
          "name": "stdout",
          "text": [
            "Sentiment scores:\n",
            "neg: 0.015\n",
            "neu: 0.775\n",
            "pos: 0.21\n",
            "compound: 0.9738\n"
          ]
        }
      ]
    },
    {
      "cell_type": "markdown",
      "source": [
        "# if the positivity score is more then it is likely to be shipping email as the email arrives like good news your items are shipped, whereas order receipts will be like confirmation of order and says thank you for placing the order\n",
        "\n"
      ],
      "metadata": {
        "id": "CrAF6BSdsfOs"
      }
    },
    {
      "cell_type": "code",
      "source": [
        "order"
      ],
      "metadata": {
        "colab": {
          "base_uri": "https://localhost:8080/",
          "height": 105
        },
        "id": "kzZ7Fptmru4Y",
        "outputId": "11d63430-68cb-4524-fc57-cec5cfaa5ea3"
      },
      "execution_count": null,
      "outputs": [
        {
          "output_type": "execute_result",
          "data": {
            "text/plain": [
              "'barnes amp noble order confirmation 241300967 find store view browser save 10 every day become member save 10 every daybecome member books teens kids ebooks toys games order summary order 241300967 ship 500 elkview drive miami fl 33169 us bill james smith shipping method standard item qty price est delivery fine print lauren asher paperback 1 1499 10212022 twisted love special edition twisted series 1 ana huang paperback 1 1399 10212022 ice planet barbarians ruby dixon paperback 1 1440 10222022 sub total 4338 shipping amp processing 000 tax 345 order total 4683 visa ending xxxx 4683 order contains preorder items available publication dates digital preorders appear nook nook reading app publication dates nook magazine newspaper subscriptions qualify 14day trial wont billed trial ends order delivery expectations best process ship orders quickly possible estimated delivery date cost shipping order depends selected delivery speed information please visit delivery expectations items order may ship separately aim ship items together ordered multiple items may ship separate warehouses may arrive separate packages possibly separate dates want cancel order interest processing order quickly possible brief window time able modify cancel order placed fulfillment system continue process order attempt modify may result changes applied circumstances worth checking us order hasnt made packing department yet please visit cancel order details refund return policies receiving items course return back us refunds returns processed eligible items returned using appropriate method return shipped brought store within 30 days 14 days nook devices 60 days gift receipt happy assist return information please visit refund return policies cant find answer youre looking visit bampn help center frequently asked questions thank shopping us see upcoming events gt free curbside pickup buy online pickup store available see gt find local bampn 2022 barnes amp noble rights reserved privacy policy bncom 33 east 17th street new york ny 10003'"
            ],
            "application/vnd.google.colaboratory.intrinsic+json": {
              "type": "string"
            }
          },
          "metadata": {},
          "execution_count": 12
        }
      ]
    },
    {
      "cell_type": "code",
      "source": [
        "shipping"
      ],
      "metadata": {
        "colab": {
          "base_uri": "https://localhost:8080/",
          "height": 88
        },
        "id": "GhHEqj-wirBB",
        "outputId": "712b1cae-1eb4-4f96-948a-a198cf418fe7"
      },
      "execution_count": null,
      "outputs": [
        {
          "output_type": "execute_result",
          "data": {
            "text/plain": [
              "'billing summary recent barnes amp noble order 262434598 view browser books ebooks audiobooks teens amp ya kids toys hi james summary listed items shippedbilled qty amount fine print 1 1499 order subtotal 1499 tax 100 order total 1599 prices shown reflect discounts applied applicable please note items order shipped yet bill items ship receive another email detailing charges payment cards chargedrefunded credit card ending xxxx 1599 order included items check status please note transactions bncom appear credit card statement barnesampnoble papersource thank shopping us look forward next visit barnes amp noble check order status learn easy returns questions visit bampn help center 2022 barnes amp noble rights reserved privacy policy bncom 33 east 17th street new york ny 10003'"
            ],
            "application/vnd.google.colaboratory.intrinsic+json": {
              "type": "string"
            }
          },
          "metadata": {},
          "execution_count": 13
        }
      ]
    },
    {
      "cell_type": "code",
      "source": [
        "if 'confirmation' in order:\n",
        "  print('this is order email')\n",
        "else:\n",
        "  print('this is shipping email')"
      ],
      "metadata": {
        "colab": {
          "base_uri": "https://localhost:8080/"
        },
        "id": "Dx6c3wRSirDr",
        "outputId": "a84f5963-4401-4f35-8ee2-7150501ec2cb"
      },
      "execution_count": null,
      "outputs": [
        {
          "output_type": "stream",
          "name": "stdout",
          "text": [
            "this is order email\n"
          ]
        }
      ]
    },
    {
      "cell_type": "code",
      "source": [
        "if 'confirmation' in shipping:\n",
        "  print('this is order email')\n",
        "else:\n",
        "  print('this is shipping email')"
      ],
      "metadata": {
        "colab": {
          "base_uri": "https://localhost:8080/"
        },
        "id": "j2SbGpKPirF-",
        "outputId": "5a60cd28-22ac-4d6b-9ba0-59c8f7717e30"
      },
      "execution_count": null,
      "outputs": [
        {
          "output_type": "stream",
          "name": "stdout",
          "text": [
            "this is shipping email\n"
          ]
        }
      ]
    }
  ]
}